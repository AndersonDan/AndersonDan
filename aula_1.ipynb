{
  "cells": [
    {
      "cell_type": "markdown",
      "metadata": {
        "id": "view-in-github",
        "colab_type": "text"
      },
      "source": [
        "<a href=\"https://colab.research.google.com/github/AndersonDan/AndersonDan/blob/main/aula_1.ipynb\" target=\"_parent\"><img src=\"https://colab.research.google.com/assets/colab-badge.svg\" alt=\"Open In Colab\"/></a>"
      ]
    },
    {
      "cell_type": "markdown",
      "id": "4a08efb7",
      "metadata": {
        "id": "4a08efb7"
      },
      "source": [
        "Gere código Python que crie lista com os número entre 1 e 100 e então imprima os número pares, mas somente se o número for divisível por 4."
      ]
    },
    {
      "cell_type": "code",
      "execution_count": null,
      "id": "8732635d",
      "metadata": {
        "scrolled": false,
        "id": "8732635d",
        "outputId": "df2d3a62-dede-460e-c853-31a22b66ca86"
      },
      "outputs": [
        {
          "name": "stdout",
          "output_type": "stream",
          "text": [
            "Números pares divisíveis por 4:\n",
            "4\n",
            "8\n",
            "12\n",
            "16\n",
            "20\n",
            "24\n",
            "28\n",
            "32\n",
            "36\n",
            "40\n",
            "44\n",
            "48\n",
            "52\n",
            "56\n",
            "60\n",
            "64\n",
            "68\n",
            "72\n",
            "76\n",
            "80\n",
            "84\n",
            "88\n",
            "92\n",
            "96\n",
            "100\n"
          ]
        }
      ],
      "source": [
        "# Criar uma lista com números de 1 a 100\n",
        "numeros = list(range(1, 101))\n",
        "\n",
        "# Filtrar os números pares que são divisíveis por 4\n",
        "pares_divisiveis_por_4 = [num for num in numeros if num % 2 == 0 and num % 4 == 0]\n",
        "\n",
        "# Imprimir os números pares divisíveis por 4\n",
        "print(\"Números pares divisíveis por 4:\")\n",
        "for num in pares_divisiveis_por_4:\n",
        "    print(num)\n"
      ]
    },
    {
      "cell_type": "markdown",
      "id": "82f7cfbf",
      "metadata": {
        "id": "82f7cfbf"
      },
      "source": [
        "# Fim\n",
        "## Fim\n",
        "### Fim\n",
        "#### Fim\n",
        "##### Fim"
      ]
    },
    {
      "cell_type": "code",
      "execution_count": null,
      "id": "6d7492f5",
      "metadata": {
        "id": "6d7492f5"
      },
      "outputs": [],
      "source": []
    }
  ],
  "metadata": {
    "kernelspec": {
      "display_name": "Python 3 (ipykernel)",
      "language": "python",
      "name": "python3"
    },
    "language_info": {
      "codemirror_mode": {
        "name": "ipython",
        "version": 3
      },
      "file_extension": ".py",
      "mimetype": "text/x-python",
      "name": "python",
      "nbconvert_exporter": "python",
      "pygments_lexer": "ipython3",
      "version": "3.9.13"
    },
    "colab": {
      "provenance": [],
      "include_colab_link": true
    }
  },
  "nbformat": 4,
  "nbformat_minor": 5
}